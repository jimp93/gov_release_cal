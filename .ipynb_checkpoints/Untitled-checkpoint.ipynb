{
 "cells": [
  {
   "cell_type": "code",
   "execution_count": 1,
   "metadata": {},
   "outputs": [],
   "source": [
    "from bs4 import BeautifulSoup\n",
    "import pandas as pd\n",
    "import requests"
   ]
  },
  {
   "cell_type": "code",
   "execution_count": 2,
   "metadata": {},
   "outputs": [],
   "source": [
    "html_page = requests.get('https://www.gov.uk/search/research-and-statistics?content_store_document_type=upcoming_statistics&order=updated-newest')\n",
    "soup = BeautifulSoup(html_page.content, 'html.parser')"
   ]
  },
  {
   "cell_type": "code",
   "execution_count": 18,
   "metadata": {},
   "outputs": [
    {
     "name": "stdout",
     "output_type": "stream",
     "text": [
      "20\n"
     ]
    }
   ],
   "source": [
    "all_page_releases = soup.find('div', attrs={'id':'js-results'}).findAll('li', class_='gem-c-document-list__item')\n",
    "print(len(all_page_releases))"
   ]
  },
  {
   "cell_type": "code",
   "execution_count": 71,
   "metadata": {},
   "outputs": [
    {
     "name": "stdout",
     "output_type": "stream",
     "text": [
      "Deaths involving COVID-19 by vaccination status, England: deaths occurring between 1 January and 2 July 2021\n",
      "Inward and outward foreign direct investment involving UK companies: historical data\n",
      "Monthly Deaths (Northern Ireland): August 2021\n",
      "Labour market in the regions of the UK: September 2022\n",
      "Monthly Births (Northern Ireland): August 2021\n",
      "Coronavirus and the impact on household finances and living standards\n",
      "Earnings and employment from Pay As You Earn Real Time Information, UK: September 2021\n",
      "NI Labour Market Statistics: September 2021\n",
      "UK labour market: September 2021\n",
      "Labour market in the regions of the UK: September 2021\n",
      "Public Sector Employment, UK: June 2021\n",
      "Labour market statistics time series: September 2021\n",
      "Quarterly Employment Survey: June 2021\n",
      "Universal Credit statistics, 29 April 2013 to 12 August 2021\n",
      "Provisional Monthly Hospital Episode Statistics for Admitted Patient Care, Outpatient and Accident and Emergency data - April 2021 - July 2021 \n",
      "DVA Monthly Tests Conducted Statistics: August 2021\n",
      "Personal Independence Payment statistics April 2013 to July 2021\n",
      "Deaths registered weekly in England and Wales, provisional: week ending 3 September 2021\n",
      "Road fuel prices: 13 September 2021\n",
      "Producer Price Inflation, UK: August 2021 time series\n"
     ]
    }
   ],
   "source": [
    "html_p = requests.get('https://www.gov.uk/search/research-and-statistics?content_store_document_type=upcoming_statistics&order=updated-newest')\n",
    "no_p_soup = BeautifulSoup(html_p.content, 'html.parser')\n",
    "no_pages = no_p_soup.find('div', attrs={'id':'js-pagination'}).find('span', class_='gem-c-pagination__link-label').text[-2:]\n",
    "\n",
    "\n",
    "def page_releases(url_base):\n",
    "    full_date=[]\n",
    "    full_title=[]\n",
    "    full_description=[]\n",
    "    full_department=[]\n",
    "    \n",
    "    no_pages_int = int(no_pages)\n",
    "    for p in range(no_pages_int):\n",
    "        if p ==0:\n",
    "            final_url=url_base\n",
    "        else:\n",
    "            tail = str(p+1)\n",
    "            final_url=url_base+ \"&page=\" + tail\n",
    "        date=[]\n",
    "        title=[]\n",
    "        description=[]\n",
    "        department=[]\n",
    "    \n",
    "        html_page = requests.get(final_url)\n",
    "        soup = BeautifulSoup(html_page.content, 'html.parser')\n",
    "        all_page_releases = soup.find('div', attrs={'id':'js-results'}).findAll('li', class_='gem-c-document-list__item')\n",
    "        for release in all_page_releases:\n",
    "            title.append(release.find('a').text)\n",
    "            description.append(release.find('p', class_='gem-c-document-list__item-description').text)\n",
    "            department.append(release.find('ul', class_='gem-c-document-list__item-metadata').findAll('li')[1].text.strip()[14:])\n",
    "            date.append(release.find('ul', class_='gem-c-document-list__item-metadata').findAll('li')[2].text.strip()[14:])\n",
    "        full_date+=date\n",
    "        full_title+=title\n",
    "        full_description+=description\n",
    "        full_department+=department\n",
    "        \n",
    "    df = pd.DataFrame([full_date, full_title, full_description, full_department]).transpose()\n",
    "    df.columns=['date', 'title', 'description', 'department']\n",
    "    return df\n",
    "url_base ='https://www.gov.uk/search/research-and-statistics?content_store_document_type=upcoming_statistics&order=updated-newest'\n",
    "page_releases(url_base)\n"
   ]
  },
  {
   "cell_type": "code",
   "execution_count": null,
   "metadata": {},
   "outputs": [],
   "source": []
  }
 ],
 "metadata": {
  "kernelspec": {
   "display_name": "Python (learn-env)",
   "language": "python",
   "name": "learn-env"
  },
  "language_info": {
   "codemirror_mode": {
    "name": "ipython",
    "version": 3
   },
   "file_extension": ".py",
   "mimetype": "text/x-python",
   "name": "python",
   "nbconvert_exporter": "python",
   "pygments_lexer": "ipython3",
   "version": "3.8.5"
  },
  "toc": {
   "base_numbering": 1,
   "nav_menu": {},
   "number_sections": true,
   "sideBar": true,
   "skip_h1_title": false,
   "title_cell": "Table of Contents",
   "title_sidebar": "Contents",
   "toc_cell": false,
   "toc_position": {},
   "toc_section_display": true,
   "toc_window_display": true
  }
 },
 "nbformat": 4,
 "nbformat_minor": 4
}
